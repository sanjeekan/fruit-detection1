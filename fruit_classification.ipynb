{
  "nbformat": 4,
  "nbformat_minor": 0,
  "metadata": {
    "colab": {
      "provenance": [],
      "mount_file_id": "1UU1YzDk3GvB9RX4mg03AyUXFhQjgEmJ7",
      "authorship_tag": "ABX9TyOzw8kwOfZry4xNoEZx6VzA",
      "include_colab_link": true
    },
    "kernelspec": {
      "name": "python3",
      "display_name": "Python 3"
    },
    "language_info": {
      "name": "python"
    }
  },
  "cells": [
    {
      "cell_type": "markdown",
      "metadata": {
        "id": "view-in-github",
        "colab_type": "text"
      },
      "source": [
        "<a href=\"https://colab.research.google.com/github/sanjeekan/fruit-detection1/blob/main/fruit_classification.ipynb\" target=\"_parent\"><img src=\"https://colab.research.google.com/assets/colab-badge.svg\" alt=\"Open In Colab\"/></a>"
      ]
    },
    {
      "cell_type": "code",
      "source": [
        "import os\n",
        "import cv2\n",
        "import numpy as np\n",
        "from sklearn.svm import SVC\n",
        "from sklearn.metrics import classification_report, accuracy_score, confusion_matrix"
      ],
      "metadata": {
        "id": "dPf-OWEtYpln"
      },
      "execution_count": 2,
      "outputs": []
    },
    {
      "cell_type": "code",
      "execution_count": 3,
      "metadata": {
        "id": "C3AWAfGjbE53"
      },
      "outputs": [],
      "source": [
        "dataset_path = \"/content/drive/MyDrive/Fruits Classification\"\n",
        "categories = ['Apple', 'Banana', 'Grape', 'Mango', 'Strawberry']\n",
        "\n",
        "img_size = 128\n",
        "def load_images_and_labels(folder_path, categories):\n",
        "  data = []\n",
        "  labels = []\n",
        "  for label, category in enumerate(categories):\n",
        "    category_path = os.path.join(folder_path, category)\n",
        "    for img_name in os.listdir(category_path):\n",
        "      img_path = os.path.join(category_path, img_name)\n",
        "      img = cv2.imread(img_path)\n",
        "      img = cv2.resize(img, (img_size, img_size))\n",
        "      data.append(img)\n",
        "      labels.append(label)\n",
        "  return np.array(data, dtype = 'float32') / 255.0, np.array(labels)\n",
        "\n",
        "#load train, test, validation data\n",
        "x_train, y_train = load_images_and_labels(os.path.join(dataset_path, \"train\"), categories)\n",
        "x_valid, y_valid = load_images_and_labels(os.path.join(dataset_path, \"valid\"), categories)\n",
        "x_test, y_test = load_images_and_labels(os.path.join(dataset_path, \"test\"), categories)\n"
      ]
    },
    {
      "cell_type": "code",
      "source": [
        "#Extract features\n",
        "sift = cv2.SIFT_create()\n",
        "\n",
        "def extract_sift_features(img):\n",
        "  img = (img * 255).astype(np.uint8)\n",
        "  gray = cv2.cvtColor(img, cv2.COLOR_BGR2GRAY)\n",
        "  keypoints, descriptors = sift.detectAndCompute(gray, None)\n",
        "  if descriptors is None:\n",
        "    return np.zeros(128)\n",
        "  return np.mean(descriptors, axis = 0)\n",
        "\n",
        "x_train_features = np.array([extract_sift_features(img) for img in x_train])\n",
        "x_valid_features = np.array([extract_sift_features(img) for img in x_valid])\n",
        "x_test_features = np.array([extract_sift_features(img) for img in x_test])"
      ],
      "metadata": {
        "id": "aqj7aWwTjUxc"
      },
      "execution_count": 7,
      "outputs": []
    },
    {
      "cell_type": "code",
      "source": [
        "#train the classifier\n",
        "svm = SVC(kernel = 'linear', random_state = 42)\n",
        "svm.fit(x_train_features, y_train)\n",
        "\n",
        "y_valid_pred = svm.predict(x_valid_features)\n",
        "print(\"Validation Accuracy:\", accuracy_score(y_valid, y_valid_pred))\n",
        "print(classification_report(y_valid, y_valid_pred, target_names=categories))"
      ],
      "metadata": {
        "colab": {
          "base_uri": "https://localhost:8080/"
        },
        "id": "BuNcfV2_YgMP",
        "outputId": "034fea0b-66b7-473b-fac0-a837f110adc2"
      },
      "execution_count": 9,
      "outputs": [
        {
          "output_type": "stream",
          "name": "stdout",
          "text": [
            "Validation Accuracy: 0.45\n",
            "              precision    recall  f1-score   support\n",
            "\n",
            "       Apple       0.48      0.40      0.44        40\n",
            "      Banana       0.51      0.55      0.53        40\n",
            "       Grape       0.39      0.55      0.45        40\n",
            "       Mango       0.45      0.35      0.39        40\n",
            "  Strawberry       0.44      0.40      0.42        40\n",
            "\n",
            "    accuracy                           0.45       200\n",
            "   macro avg       0.46      0.45      0.45       200\n",
            "weighted avg       0.46      0.45      0.45       200\n",
            "\n"
          ]
        }
      ]
    },
    {
      "cell_type": "code",
      "source": [
        "#evaluate the performance of the model in test set\n",
        "y_test_pred = svm.predict(x_test_features)\n",
        "print(\"test_accuracy\", accuracy_score(y_test, y_test_pred))\n",
        "print(classification_report(y_test, y_test_pred, target_names = categories))"
      ],
      "metadata": {
        "colab": {
          "base_uri": "https://localhost:8080/"
        },
        "id": "XYuUych3okgm",
        "outputId": "0f9695d3-ce78-40df-9b7c-8b78332886b8"
      },
      "execution_count": 10,
      "outputs": [
        {
          "output_type": "stream",
          "name": "stdout",
          "text": [
            "test_accuracy 0.54\n",
            "              precision    recall  f1-score   support\n",
            "\n",
            "       Apple       0.50      0.40      0.44        20\n",
            "      Banana       0.57      0.65      0.60        20\n",
            "       Grape       0.67      0.70      0.68        20\n",
            "       Mango       0.48      0.60      0.53        20\n",
            "  Strawberry       0.47      0.35      0.40        20\n",
            "\n",
            "    accuracy                           0.54       100\n",
            "   macro avg       0.54      0.54      0.53       100\n",
            "weighted avg       0.54      0.54      0.53       100\n",
            "\n"
          ]
        }
      ]
    },
    {
      "cell_type": "code",
      "source": [
        "def predict_image(image_path):\n",
        "  img = cv2.imread(image_path)\n",
        "  img_resized = cv2.resize(img, (img_size, img_size))\n",
        "  features = extract_sift_features(img_resized)\n",
        "  prediction = svm.predict([features])\n",
        "  return categories[prediction[0]]\n",
        "\n",
        "sample_image_path = \"/content/drive/MyDrive/b1.jpg\"\n",
        "predicted_class = predict_image(sample_image_path)\n",
        "print(f\"predicted_class: {predicted_class}\")\n"
      ],
      "metadata": {
        "colab": {
          "base_uri": "https://localhost:8080/"
        },
        "id": "xDJdFDS_pkBJ",
        "outputId": "939216c9-1777-48b6-c80e-791ce75bad4f"
      },
      "execution_count": 12,
      "outputs": [
        {
          "output_type": "stream",
          "name": "stdout",
          "text": [
            "predicted_class: Apple\n"
          ]
        }
      ]
    },
    {
      "cell_type": "code",
      "source": [
        "sample_image_path2 = \"/content/drive/MyDrive/m1.jpg\"\n",
        "predicted_class = predict_image(sample_image_path2)\n",
        "print(f\"predicted_class: {predicted_class}\")\n"
      ],
      "metadata": {
        "colab": {
          "base_uri": "https://localhost:8080/"
        },
        "id": "SVZhBIRh6207",
        "outputId": "0a0294ba-5122-4e3b-e52d-b673fc99c2ff"
      },
      "execution_count": 13,
      "outputs": [
        {
          "output_type": "stream",
          "name": "stdout",
          "text": [
            "predicted_class: Mango\n"
          ]
        }
      ]
    },
    {
      "cell_type": "code",
      "source": [
        "sample_image_path3 = \"/content/drive/MyDrive/g1.jpg\"\n",
        "predicted_class = predict_image(sample_image_path3)\n",
        "print(f\"predicted_class: {predicted_class}\")\n"
      ],
      "metadata": {
        "colab": {
          "base_uri": "https://localhost:8080/"
        },
        "id": "qktnLGue7hLW",
        "outputId": "d3394887-767e-4739-a12a-f85fd99b41ed"
      },
      "execution_count": 14,
      "outputs": [
        {
          "output_type": "stream",
          "name": "stdout",
          "text": [
            "predicted_class: Strawberry\n"
          ]
        }
      ]
    },
    {
      "cell_type": "code",
      "source": [
        "sample_image_path4 = \"/content/drive/MyDrive/s1.jpg\"\n",
        "predicted_class = predict_image(sample_image_path4)\n",
        "print(f\"predicted_class: {predicted_class}\")\n"
      ],
      "metadata": {
        "colab": {
          "base_uri": "https://localhost:8080/"
        },
        "id": "66FtCdHS7jjB",
        "outputId": "bf3e24d9-ca7f-4c55-af94-6ca5445bf859"
      },
      "execution_count": 15,
      "outputs": [
        {
          "output_type": "stream",
          "name": "stdout",
          "text": [
            "predicted_class: Mango\n"
          ]
        }
      ]
    }
  ]
}